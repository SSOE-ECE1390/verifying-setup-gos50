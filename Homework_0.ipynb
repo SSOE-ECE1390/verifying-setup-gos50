{
 "cells": [
  {
   "cell_type": "markdown",
   "metadata": {},
   "source": [
    "# <font style=\"color:black\">Lecture 1: Homework Problem</font>\n",
    "\n",
    "In this first homework set, I want you to make sure that you can use GitHub, MS Code, and OpenCV.\n",
    "You should (already to be able to read this document), clone the Github classroom assignment and edit it in VS Code.  In this python notebook, do the following:\n",
    "\n",
    "* Load an (Grayscale) image  (‘Data/Apollo_11_Launch.jpg’)\n",
    "* View image\n",
    "* Crop image\n",
    "* Edit brightness of image\n",
    "* Rotate image\n",
    "* Save modified image"
   ]
  },
  {
   "cell_type": "code",
   "execution_count": null,
   "metadata": {},
   "outputs": [],
   "source": []
  },
  {
   "cell_type": "code",
   "execution_count": 2,
   "metadata": {},
   "outputs": [],
   "source": [
    "import cv2\n",
    "image = cv2.imread('/Users/gabbystokes/Desktop/verifying-setup-gos50/Data/Apollo_11_Launch.jpg', cv2.IMREAD_GRAYSCALE)\n",
    "\n"
   ]
  },
  {
   "cell_type": "code",
   "execution_count": null,
   "metadata": {},
   "outputs": [],
   "source": [
    "\n",
    "\n",
    "# Check if the image was loaded properly\n",
    "if image is None:\n",
    "    print(\"Failed to load image.\")\n",
    "else:\n",
    "    # Display the image\n",
    "    cv2.imshow('Grayscale Image', image)\n",
    "    cv2.waitKey(0)\n",
    "    cv2.destroyAllWindows()"
   ]
  },
  {
   "cell_type": "code",
   "execution_count": null,
   "metadata": {},
   "outputs": [],
   "source": [
    "# Check if the image was loaded successfully\n",
    "if image is None:\n",
    "    print(\"Error: Could not load image.\")\n",
    "else:\n",
    "    # Define the cropping coordinates: [y1:y2, x1:x2]\n",
    "    # For example, crop the rectangle from (x=100, y=50) to (x=300, y=200)\n",
    "    cropped_image = image[0:500, 0:500]\n",
    "\n",
    "    # Display the cropped image\n",
    "    cv2.imshow('Cropped Image', cropped_image)\n",
    "    cv2.waitKey(0)\n",
    "    cv2.destroyAllWindows()"
   ]
  },
  {
   "cell_type": "code",
   "execution_count": 4,
   "metadata": {},
   "outputs": [],
   "source": [
    "if image is None:\n",
    "    print(\"Error loading image.\")\n",
    "    exit()\n",
    "\n",
    "# Brightness parameters\n",
    "alpha = 1.0  # Contrast (1.0 = no change)\n",
    "beta = 50    # Brightness (+ve to increase, -ve to decrease)\n",
    "\n",
    "# Apply brightness and contrast adjustment\n",
    "bright_image = cv2.convertScaleAbs(image, alpha=alpha, beta=beta)\n",
    "\n",
    "# Show original and brightened image side-by-side\n",
    "cv2.imshow('Original Image', image)\n",
    "cv2.imshow('Brightened Image', bright_image)\n",
    "cv2.waitKey(0)\n",
    "cv2.destroyAllWindows()"
   ]
  },
  {
   "cell_type": "code",
   "execution_count": 5,
   "metadata": {},
   "outputs": [],
   "source": [
    "# Rotate 90 degrees clockwise\n",
    "rotated_90 = cv2.rotate(image, cv2.ROTATE_90_CLOCKWISE)\n",
    "\n",
    "# Rotate 180 degrees\n",
    "rotated_180 = cv2.rotate(image, cv2.ROTATE_180)\n",
    "\n",
    "# Rotate 90 degrees counter-clockwise\n",
    "rotated_90_ccw = cv2.rotate(image, cv2.ROTATE_90_COUNTERCLOCKWISE)\n",
    "\n",
    "# Display result\n",
    "cv2.imshow('Rotated 90°', rotated_90)\n",
    "cv2.waitKey(0)\n",
    "cv2.destroyAllWindows()"
   ]
  },
  {
   "cell_type": "code",
   "execution_count": 6,
   "metadata": {},
   "outputs": [],
   "source": [
    "cropped_image = image[0:500, 0:500]\n",
    "alpha = 1.0  # Contrast (1.0 = no change)\n",
    "beta = 50    # Brightness (+ve to increase, -ve to decrease)\n",
    "\n",
    "# Apply brightness and contrast adjustment\n",
    "bright_image = cv2.convertScaleAbs(cropped_image, alpha=alpha, beta=beta)\n",
    "\n",
    "\n",
    "# Rotate 90 degrees clockwise\n",
    "rotated_90 = cv2.rotate(bright_image, cv2.ROTATE_90_CLOCKWISE)\n",
    "\n",
    "cv2.imshow('Modified Image', rotated_90)\n",
    "cv2.waitKey(0)\n",
    "cv2.destroyAllWindows()\n",
    "\n"
   ]
  }
 ],
 "metadata": {
  "kernelspec": {
   "display_name": ".venv (3.9.6)",
   "language": "python",
   "name": "python3"
  },
  "language_info": {
   "codemirror_mode": {
    "name": "ipython",
    "version": 3
   },
   "file_extension": ".py",
   "mimetype": "text/x-python",
   "name": "python",
   "nbconvert_exporter": "python",
   "pygments_lexer": "ipython3",
   "version": "3.9.6"
  }
 },
 "nbformat": 4,
 "nbformat_minor": 2
}
